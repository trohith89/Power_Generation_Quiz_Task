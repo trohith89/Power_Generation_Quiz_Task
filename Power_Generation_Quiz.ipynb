{
  "nbformat": 4,
  "nbformat_minor": 0,
  "metadata": {
    "colab": {
      "provenance": []
    },
    "kernelspec": {
      "name": "python3",
      "display_name": "Python 3"
    },
    "language_info": {
      "name": "python"
    }
  },
  "cells": [
    {
      "cell_type": "markdown",
      "source": [
        "***Power Generation Quiz***⚡"
      ],
      "metadata": {
        "id": "T-rqTw49WTYx"
      }
    },
    {
      "cell_type": "code",
      "source": [
        "# import numpy and pandas\n",
        "import numpy as np\n",
        "import pandas as pd"
      ],
      "metadata": {
        "id": "_jkmWoL3XgYB"
      },
      "execution_count": null,
      "outputs": []
    },
    {
      "cell_type": "code",
      "source": [
        "# import csv file and make a copy.\n",
        "df = pd.read_csv('/content/PowerGeneration.csv')\n",
        "\n",
        "power = df.copy()"
      ],
      "metadata": {
        "id": "POhSXXFCXolO"
      },
      "execution_count": null,
      "outputs": []
    },
    {
      "cell_type": "code",
      "source": [
        "# renaming the columns\n",
        "power.columns = power.columns.str.replace('(+) / ', '_').str.replace('.','').str.lower().str.replace(' (','(').str.split('(').str[0].str.replace(' ','_')"
      ],
      "metadata": {
        "id": "3nEhgGF-X3hX"
      },
      "execution_count": null,
      "outputs": []
    },
    {
      "cell_type": "code",
      "source": [
        "# set dates as index\n",
        "\n",
        "power['dates'] = pd.to_datetime(power['dates'],format='%Y-%m-%d')"
      ],
      "metadata": {
        "id": "zCDAAPUDbSwP"
      },
      "execution_count": null,
      "outputs": []
    },
    {
      "cell_type": "markdown",
      "source": [
        "Q1. Which Power Station had the highest total 'Deviation' in 2020?\n"
      ],
      "metadata": {
        "id": "7ydIx9FrWwUk"
      }
    },
    {
      "cell_type": "code",
      "source": [
        "# groupby for the year 2020\n",
        "power[power['dates'].dt.year == 2020].groupby('power_station')['deviation'].max().head(1)"
      ],
      "metadata": {
        "colab": {
          "base_uri": "https://localhost:8080/"
        },
        "id": "U6p5DEsEYGii",
        "outputId": "c98c6f9a-5191-46b5-afd2-f8c1998bdd37"
      },
      "execution_count": null,
      "outputs": [
        {
          "output_type": "execute_result",
          "data": {
            "text/plain": [
              "power_station\n",
              "ABAN POWR    0.0\n",
              "Name: deviation, dtype: float64"
            ]
          },
          "metadata": {},
          "execution_count": 269
        }
      ]
    },
    {
      "cell_type": "markdown",
      "source": [
        "Q2. What is the average 'Forced Maintenance (MW)' for weekends in 2019?\n"
      ],
      "metadata": {
        "id": "lbff11DHWwdI"
      }
    },
    {
      "cell_type": "code",
      "source": [
        "# checking for weekdays and weekends\n",
        "power['weekday'] = power['dates'].dt.weekday\n",
        "power['weekends'] = power['weekday'].apply(lambda x : 'yes' if x==5 or x==6 else 'no')\n",
        "\n",
        "# groupby for the year 2019 and given condition\n",
        "power[power['dates'].dt.year == 2019].groupby(power['weekends']=='yes')['forced_maintanence'].mean().loc[True]"
      ],
      "metadata": {
        "colab": {
          "base_uri": "https://localhost:8080/"
        },
        "id": "FGpN-kPUerkw",
        "outputId": "e4c4bd05-fe1d-467b-edc6-fae11bd98e5d"
      },
      "execution_count": null,
      "outputs": [
        {
          "output_type": "execute_result",
          "data": {
            "text/plain": [
              "323.95776221107724"
            ]
          },
          "metadata": {},
          "execution_count": 272
        }
      ]
    },
    {
      "cell_type": "markdown",
      "source": [
        "Q3. What is the total number of days in 2020 where 'Total Cap. Under Maintenace (MW)' exceeded 'Monitored Cap.(MW)' ?\n"
      ],
      "metadata": {
        "id": "Txjnz4OuWwms"
      }
    },
    {
      "cell_type": "code",
      "source": [
        "# new df for the given condition :\n",
        "req_days = power[power['dates'].dt.year == 2020].groupby(power['total_cap_under_maintenace'] > power['monitored_cap'])['dates'].count()\n",
        "\n",
        "# total days in 2020\n",
        "total_days = power[power['dates'].dt.year == 2020]['dates'].count()\n",
        "\n",
        "# ans for given condition = total_days - req_days.loc[False] ---> (req_days.loc[False] => all the days where the condition doesn't apply)\n",
        "ans = total_days - req_days.loc[False]\n",
        "\n",
        "ans"
      ],
      "metadata": {
        "colab": {
          "base_uri": "https://localhost:8080/"
        },
        "id": "-ktMguESkmyv",
        "outputId": "c1478e4c-f409-4377-8030-180beef0c145"
      },
      "execution_count": null,
      "outputs": [
        {
          "output_type": "execute_result",
          "data": {
            "text/plain": [
              "0"
            ]
          },
          "metadata": {},
          "execution_count": 268
        }
      ]
    },
    {
      "cell_type": "markdown",
      "source": [
        "Q4. Which Power Station had the highest average 'Planned Maintenance (MW)' during the winter months (December to February) across all years?\n"
      ],
      "metadata": {
        "id": "4DEcf1_OWwvZ"
      }
    },
    {
      "cell_type": "code",
      "source": [
        "# groupby on given months and 'Planned Maintenance (MW)' column\n",
        "power.groupby([power['dates'].dt.month==12,power['dates'].dt.month==1,power['dates'].dt.month==2,'power_station'])['planned_maintanence'].mean().sort_values(ascending=False)"
      ],
      "metadata": {
        "colab": {
          "base_uri": "https://localhost:8080/"
        },
        "id": "2hMHquaJn4yN",
        "outputId": "fb0fecbf-48b5-4369-84e3-3fde34cb7508"
      },
      "execution_count": null,
      "outputs": [
        {
          "output_type": "execute_result",
          "data": {
            "text/plain": [
              "dates  dates  dates  power_station  \n",
              "True   False  False  Andhra Pradesh.    914.516129\n",
              "False  True   False  Maharashtra        742.245161\n",
              "       False  True   Uttar Pradesh      656.297872\n",
              "True   False  False  NTPC Ltd.          654.746768\n",
              "                     Uttar Pradesh      650.056497\n",
              "                                           ...    \n",
              "False  True   False  DPSCLTD              0.000000\n",
              "                     DLHP                 0.000000\n",
              "                     DIPL                 0.000000\n",
              "                     DIL                  0.000000\n",
              "                     KONA                 0.000000\n",
              "Name: planned_maintanence, Length: 724, dtype: float64"
            ]
          },
          "metadata": {},
          "execution_count": 276
        }
      ]
    },
    {
      "cell_type": "markdown",
      "source": [
        "Q5. What is the median 'Actual (MU)' for each quarter in 2020?\n"
      ],
      "metadata": {
        "id": "_eKF-9FmWw3r"
      }
    },
    {
      "cell_type": "code",
      "source": [
        "# groupby on df for year 2020 and quarter(dt.quarter)\n",
        "\n",
        "power[power['dates'].dt.year == 2020].groupby(power['dates'].dt.quarter)['actual'].median()"
      ],
      "metadata": {
        "colab": {
          "base_uri": "https://localhost:8080/"
        },
        "id": "kXH1Pld2rE56",
        "outputId": "6fa4aa8a-dffc-4dfd-9e4e-b2dfb322279c"
      },
      "execution_count": null,
      "outputs": [
        {
          "output_type": "execute_result",
          "data": {
            "text/plain": [
              "dates\n",
              "1    6.0\n",
              "2    6.0\n",
              "3    6.0\n",
              "4    5.0\n",
              "Name: actual, dtype: float64"
            ]
          },
          "metadata": {},
          "execution_count": 279
        }
      ]
    },
    {
      "cell_type": "markdown",
      "source": [
        "Q6. What is the average 'Deviation' in the first quarter (Q1) of 2019?\n"
      ],
      "metadata": {
        "id": "Gme6cI54Ww_t"
      }
    },
    {
      "cell_type": "code",
      "source": [
        "# groupby on df of 2019 with regards to 1st quarter\n",
        "\n",
        "power[power['dates'].dt.year==2019].groupby(power['dates'].dt.quarter == 1)['deviation'].mean().loc[True]"
      ],
      "metadata": {
        "colab": {
          "base_uri": "https://localhost:8080/"
        },
        "id": "m7KivFqtrTd3",
        "outputId": "7edd3e6f-34eb-429d-d758-7ee9b8c6d778"
      },
      "execution_count": null,
      "outputs": [
        {
          "output_type": "execute_result",
          "data": {
            "text/plain": [
              "0.0"
            ]
          },
          "metadata": {},
          "execution_count": 285
        }
      ]
    },
    {
      "cell_type": "markdown",
      "source": [
        "Q7. What is the total 'Actual(MU)' generated on weekends (Saturday and Sunday) in 2018?\n"
      ],
      "metadata": {
        "id": "AOTlBaYqWxIw"
      }
    },
    {
      "cell_type": "code",
      "source": [
        "# groupby on df of 2018 with regards to weekends and 'Actual(MU)' column\n",
        "\n",
        "power[power['dates'].dt.year==2018].groupby(power['weekends']=='yes')['actual'].sum().loc[True]"
      ],
      "metadata": {
        "colab": {
          "base_uri": "https://localhost:8080/"
        },
        "id": "CEMZEe6fsXGC",
        "outputId": "b0b240c6-2b3d-42a3-a762-191871476753"
      },
      "execution_count": 311,
      "outputs": [
        {
          "output_type": "execute_result",
          "data": {
            "text/plain": [
              "342018"
            ]
          },
          "metadata": {},
          "execution_count": 311
        }
      ]
    },
    {
      "cell_type": "markdown",
      "source": [
        "Q8. Which Power Station had the highest average 'Excess(+) / Shortfall (-)' in 2019?\n"
      ],
      "metadata": {
        "id": "2LB-vlnNWxRM"
      }
    },
    {
      "cell_type": "code",
      "source": [
        "# groupby on df of 2019 with regards to power_station and excess_shortfall columns\n",
        "\n",
        "power[power['dates'].dt.year == 2019].groupby('power_station')['excess_shortfall'].mean().sort_values(ascending=False).head(1)"
      ],
      "metadata": {
        "colab": {
          "base_uri": "https://localhost:8080/"
        },
        "id": "TPpEVOoHujuS",
        "outputId": "9697ab5d-b3f0-4a12-8997-c1d265f631fa"
      },
      "execution_count": null,
      "outputs": [
        {
          "output_type": "execute_result",
          "data": {
            "text/plain": [
              "power_station\n",
              "GCEL    8.262712\n",
              "Name: excess_shortfall, dtype: float64"
            ]
          },
          "metadata": {},
          "execution_count": 288
        }
      ]
    },
    {
      "cell_type": "markdown",
      "source": [
        "Q9. What is the median 'Total Cap. Under Maintenance (MW)' during the monsoon months (June to September) across all years?\n"
      ],
      "metadata": {
        "id": "IjYYMXnIWxY7"
      }
    },
    {
      "cell_type": "code",
      "source": [
        "# groupby on df with given months(6 to 9) and given column for all years\n",
        "\n",
        "power[power['dates'].dt.month >= 6].groupby(power['dates'].dt.month <= 9)['total_cap_under_maintenace'].median().loc[True]"
      ],
      "metadata": {
        "colab": {
          "base_uri": "https://localhost:8080/"
        },
        "id": "QoV1VQGIwh50",
        "outputId": "61e18ce0-2716-41ef-c824-2bb4b738cec9"
      },
      "execution_count": null,
      "outputs": [
        {
          "output_type": "execute_result",
          "data": {
            "text/plain": [
              "135.0"
            ]
          },
          "metadata": {},
          "execution_count": 309
        }
      ]
    },
    {
      "cell_type": "markdown",
      "source": [
        "Q10. What is the percentage of days in 2020 where 'Actual(MU)' was less than 'Programme or Expected(MU)'?\n"
      ],
      "metadata": {
        "id": "esicUN2QWxgV"
      }
    },
    {
      "cell_type": "code",
      "source": [
        "#new DataFrame for year 2020 and given condition and their count :\n",
        "q10_df = power[power['actual'] < power['programme_or_expected']].groupby(power['dates'].dt.year == 2020)['dates'].count()\n",
        "\n",
        "# true_count => number of days where it satisfies the condition for the year 2020\n",
        "true_count = q10_df[True]\n",
        "\n",
        "# total number of days in 2020\n",
        "total_count = power[power['dates'].dt.year==2020]['dates'].count()\n",
        "\n",
        "# ans => calculate percentage with the acquired values:\n",
        "ans = (true_count/total_count)*100\n",
        "\n",
        "ans"
      ],
      "metadata": {
        "colab": {
          "base_uri": "https://localhost:8080/"
        },
        "id": "TMb7ieXQwmLA",
        "outputId": "7a2f535f-4dc0-45b5-b018-9f4e29e60ae8"
      },
      "execution_count": 312,
      "outputs": [
        {
          "output_type": "execute_result",
          "data": {
            "text/plain": [
              "31.650966629725403"
            ]
          },
          "metadata": {},
          "execution_count": 312
        }
      ]
    }
  ]
}